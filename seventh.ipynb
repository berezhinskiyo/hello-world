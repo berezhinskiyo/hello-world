{
 "cells": [
  {
   "cell_type": "code",
   "execution_count": 48,
   "metadata": {
    "collapsed": false,
    "deletable": true,
    "editable": true
   },
   "outputs": [
    {
     "name": "stdout",
     "output_type": "stream",
     "text": [
      "Populating the interactive namespace from numpy and matplotlib\n"
     ]
    },
    {
     "name": "stderr",
     "output_type": "stream",
     "text": [
      "/home/ob/anaconda2/lib/python2.7/site-packages/IPython/core/magics/pylab.py:161: UserWarning: pylab import has clobbered these variables: ['f', 'interactive']\n",
      "`%matplotlib` prevents importing * from pylab and numpy\n",
      "  \"\\n`%matplotlib` prevents importing * from pylab and numpy\"\n"
     ]
    }
   ],
   "source": [
    "%pylab inline"
   ]
  },
  {
   "cell_type": "code",
   "execution_count": 49,
   "metadata": {
    "collapsed": false,
    "deletable": true,
    "editable": true
   },
   "outputs": [],
   "source": [
    "import pandas as pd\n",
    "import matplotlib.pyplot as plt\n",
    "from scipy import stats\n",
    "import numpy as np\n",
    "import datetime\n",
    "\n",
    "from matplotlib.colors import ListedColormap\n",
    "from mpl_toolkits.basemap import Basemap\n",
    "import matplotlib.pyplot as plt\n",
    "\n",
    "import pickle\n",
    "import statsmodels.formula.api as smf\n",
    "import statsmodels.stats.api as sms\n",
    "from tqdm import tqdm\n",
    "\n",
    "from ipywidgets import widgets\n",
    "from IPython.display import display\n",
    "\n",
    "from __future__ import print_function\n",
    "from IPython.html.widgets import interact, interactive, fixed\n",
    "from IPython.html import widgets"
   ]
  },
  {
   "cell_type": "code",
   "execution_count": 52,
   "metadata": {
    "collapsed": false,
    "deletable": true,
    "editable": true
   },
   "outputs": [
    {
     "name": "stderr",
     "output_type": "stream",
     "text": [
      "100%|██████████| 10/10 [00:33<00:00,  3.30s/it]\n"
     ]
    }
   ],
   "source": [
    "regions = pd.read_csv('regions.csv',sep = ';')\n",
    "\n",
    "yellowmap = pd.read_csv('yellowmap.csv',sep = ',',index_col=[0],parse_dates=True)\n",
    "yellow_avg = regions\n",
    "yellow_avg['avg_departure'] = regions.region.apply(lambda x : yellowmap[yellowmap.columns[x-1]].mean())\n",
    "#yellow_avg = yellow_avg[yellow_avg.avg_departure >= 5]\n",
    "\n",
    "with open('dfres_c7.pickle', 'rb') as f:\n",
    "    dfres_c = pickle.load(f) \n",
    "date_list_june = [datetime.datetime.strptime(\"2016-05-31 23:00\", \"%Y-%m-%d %H:%M\") + relativedelta(hours=x) \n",
    "             for x in range(0,715)]  \n",
    "preddf = {}\n",
    "realdf = {}\n",
    "for d in tqdm(date_list_june[:10]):\n",
    "    preddf[d] = np.array([ dfres_c[(dfres_c.date == d) & (dfres_c.region == r)].pred.values[0] if  len(dfres_c[(dfres_c.date == d) & (dfres_c.region == r)])>0 else 0 for r in regions.region.values])\n"
   ]
  },
  {
   "cell_type": "code",
   "execution_count": 79,
   "metadata": {
    "collapsed": false,
    "deletable": true,
    "editable": true
   },
   "outputs": [],
   "source": [
    "import geojson\n",
    "import json\n",
    "\n",
    "import folium\n",
    "from folium import plugins\n",
    "import folium.colormap as cmap\n",
    "from IPython.display import display"
   ]
  },
  {
   "cell_type": "code",
   "execution_count": 108,
   "metadata": {
    "collapsed": false,
    "deletable": true,
    "editable": true,
    "scrolled": true
   },
   "outputs": [
    {
     "data": {
      "application/vnd.jupyter.widget-view+json": {
       "model_id": "9f8c428036624bba9df1458d66c87f20"
      }
     },
     "metadata": {},
     "output_type": "display_data"
    }
   ],
   "source": [
    "plt.figure(figsize(15,7))\n",
    "list_of_features = []\n",
    "for ind in regions.index:\n",
    "    poly = geojson.Polygon([[[regions.iloc[ind].west, regions.iloc[ind].south], \n",
    "                             [regions.iloc[ind].west, regions.iloc[ind].north],\n",
    "                             [regions.iloc[ind].east, regions.iloc[ind].north], \n",
    "                             [regions.iloc[ind].east, regions.iloc[ind].south],\n",
    "                             [regions.iloc[ind].west, regions.iloc[ind].south]]])\n",
    "    feature = geojson.Feature(geometry=poly, id=str(ind), properties={\"name\": \"reg. {}\".format(int(regions.iloc[ind].region))})\n",
    "    list_of_features.append(feature)\n",
    "features = geojson.FeatureCollection(list_of_features)\n",
    "\n",
    "data_reg_mean = preddf[date_list_june[0]]\n",
    "vmin = dfres_c.min()\n",
    "vmax = dfres_c.max()\n",
    "width = vmax - vmin\n",
    "color_func = cmap.LinearColormap(['white', 'green', 'cyan', 'blue', 'magenta', 'red'],\n",
    "                               vmax = vmax, vmin = vmin,\n",
    "                               index=[vmin, 20, 0.3*width, 0.6*width, 0.9*width, 1.0*vmax])\n",
    "\n",
    "\n",
    "map_nyc = folium.Map(location=[(nyc_latitude_south+nyc_latitude_north)/2, (nyc_longitude_east+nyc_longitude_west)/2],\n",
    "                     zoom_start = 11, tiles= 'cartodbpositron')\n",
    "\n",
    "gj = folium.GeoJson(\n",
    "    features,\n",
    "    style_function=lambda feature: {\n",
    "        'fillColor': color_func(data_reg_mean[int(feature['id'])]),\n",
    "        'color': 'black',\n",
    "        'weight': 0.2,\n",
    "        'dashArray': '5, 5'\n",
    "    }\n",
    ")\n",
    "gj.add_to(map_nyc)\n",
    "\n",
    "def f (x):\n",
    "    print(x)\n",
    "    #print(preddf[date_list_june[x]])\n",
    "    data_reg_mean = preddf[x]\n",
    "    gj.style_function = lambda feature: {\n",
    "        'fillColor': color_func(data_reg_mean[int(feature['id'])]),\n",
    "        'color': 'black',\n",
    "        'weight': 0.2,\n",
    "        'dashArray': '5, 5'\n",
    "    }\n",
    "    display(map_nyc)\n",
    "\n",
    "color_func.caption = \"Mean value of trips\"\n",
    "map_nyc.add_child(color_func)   \n",
    "interact(f, x=widgets.SelectionSlider(\n",
    "    options=date_list_june[:10],\n",
    "    value=date_list_june[0],\n",
    "    description='June 2016',\n",
    "    disabled=False,\n",
    "\n",
    "    continuous_update=False,\n",
    "    orientation='horizontal',\n",
    "    readout=True,\n",
    "\n",
    "));"
   ]
  },
  {
   "cell_type": "markdown",
   "metadata": {},
   "source": [
    "Отобра"
   ]
  },
  {
   "cell_type": "code",
   "execution_count": 137,
   "metadata": {
    "collapsed": false,
    "deletable": true,
    "editable": true
   },
   "outputs": [
    {
     "data": {
      "application/vnd.jupyter.widget-view+json": {
       "model_id": "51418441e7314ec4ba65de940ef4f198"
      }
     },
     "metadata": {},
     "output_type": "display_data"
    },
    {
     "data": {
      "text/plain": [
       "<function __main__.f1>"
      ]
     },
     "execution_count": 137,
     "metadata": {},
     "output_type": "execute_result"
    }
   ],
   "source": [
    "def f1(x):\n",
    "    df1 = pd.DataFrame(dfres_c[dfres_c.region == x].values,columns=['region', 'date', 'quantity','lr_pred','pred'],index= dfres_c[dfres_c.region == 1075].date.values)\n",
    "    df1.quantity.plot()\n",
    "    df1.pred.plot(color='r')\n",
    "    plt.ylabel(u'Количество поездок')\n",
    "    plt.legend([u'Факт',u'Предсказание'])\n",
    "    plt.show()\n",
    "plt.figure(figsize(15,7))\n",
    "    \n",
    "interact(f1, x= widgets.Dropdown(\n",
    "    options=np.unique(dfres_c.region.values).tolist(),\n",
    "    value=1075,\n",
    "    description=u'Номер региона:',\n",
    "    disabled=False,\n",
    "    button_style='' # 'success', 'info', 'warning', 'danger' or ''\n",
    "    ))"
   ]
  },
  {
   "cell_type": "code",
   "execution_count": null,
   "metadata": {
    "collapsed": true,
    "deletable": true,
    "editable": true
   },
   "outputs": [],
   "source": [
    "widgets.HTML(\n",
    "    value=\"Hello <b>World</b>\",\n",
    "    placeholder='Some HTML',\n",
    "    description='Some HTML',\n",
    "    disabled=False\n",
    ")"
   ]
  },
  {
   "cell_type": "code",
   "execution_count": null,
   "metadata": {
    "collapsed": true,
    "deletable": true,
    "editable": true
   },
   "outputs": [],
   "source": []
  }
 ],
 "metadata": {
  "kernelspec": {
   "display_name": "Python 2",
   "language": "python",
   "name": "python2"
  },
  "language_info": {
   "codemirror_mode": {
    "name": "ipython",
    "version": 2
   },
   "file_extension": ".py",
   "mimetype": "text/x-python",
   "name": "python",
   "nbconvert_exporter": "python",
   "pygments_lexer": "ipython2",
   "version": "2.7.13"
  }
 },
 "nbformat": 4,
 "nbformat_minor": 2
}
